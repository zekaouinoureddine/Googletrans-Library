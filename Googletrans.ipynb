{
  "nbformat": 4,
  "nbformat_minor": 0,
  "metadata": {
    "colab": {
      "name": "Googletrans.ipynb",
      "provenance": [],
      "collapsed_sections": [],
      "authorship_tag": "ABX9TyN7ShrUHuuDt7unbaBNBLZ+",
      "include_colab_link": true
    },
    "kernelspec": {
      "name": "python3",
      "display_name": "Python 3"
    },
    "accelerator": "GPU"
  },
  "cells": [
    {
      "cell_type": "markdown",
      "metadata": {
        "id": "view-in-github",
        "colab_type": "text"
      },
      "source": [
        "<a href=\"https://colab.research.google.com/github/zekaouinoureddine/Googletrans-Library/blob/main/Googletrans.ipynb\" target=\"_parent\"><img src=\"https://colab.research.google.com/assets/colab-badge.svg\" alt=\"Open In Colab\"/></a>"
      ]
    },
    {
      "cell_type": "markdown",
      "metadata": {
        "id": "fr7mKq-yQZZD"
      },
      "source": [
        "\n",
        "**<h1 align=center><font size = 5>Googletrans is a free and unlimited python Library</font></h1>**"
      ]
    },
    {
      "cell_type": "markdown",
      "metadata": {
        "id": "bUhvhsN4Q4DS"
      },
      "source": [
        "## **Overview**\n",
        "Googletrans is a free and unlimited python library that implemented Google Translate API. This uses the Google Translate Ajax API to make calls to such methods and translate."
      ]
    },
    {
      "cell_type": "markdown",
      "metadata": {
        "id": "aT6htnEKRBmN"
      },
      "source": [
        "## **Table of Contents**\n",
        "1. Install the googletrans library\n",
        "2. Import Googletrans library\n",
        "3. Supported languages by Googletrans\n",
        "4. Simple Translation Example\n",
        "5. Sentence Translation Example\n",
        "6. Translation Object's Details\n",
        "7. Iterate over the translation\n",
        "8. Detect the Language"
      ]
    },
    {
      "cell_type": "markdown",
      "metadata": {
        "id": "owitd211-IX6"
      },
      "source": [
        "### **Install the googletrans library**"
      ]
    },
    {
      "cell_type": "code",
      "metadata": {
        "id": "GG8vyMgl9wJN",
        "colab": {
          "base_uri": "https://localhost:8080/",
          "height": 762
        },
        "outputId": "d623a0da-d6dc-4ec3-b938-695d3a70715a"
      },
      "source": [
        "pip install googletrans"
      ],
      "execution_count": null,
      "outputs": [
        {
          "output_type": "stream",
          "text": [
            "Collecting googletrans\n",
            "  Downloading https://files.pythonhosted.org/packages/71/3a/3b19effdd4c03958b90f40fe01c93de6d5280e03843cc5adf6956bfc9512/googletrans-3.0.0.tar.gz\n",
            "Collecting httpx==0.13.3\n",
            "\u001b[?25l  Downloading https://files.pythonhosted.org/packages/54/b4/698b284c6aed4d7c2b4fe3ba5df1fcf6093612423797e76fbb24890dd22f/httpx-0.13.3-py3-none-any.whl (55kB)\n",
            "\u001b[K     |████████████████████████████████| 61kB 5.7MB/s \n",
            "\u001b[?25hCollecting hstspreload\n",
            "\u001b[?25l  Downloading https://files.pythonhosted.org/packages/f0/16/59b51f8e640f16acad2c0e101fa1e55a87bfd80cff23f77ab23cb8927541/hstspreload-2020.10.6-py3-none-any.whl (965kB)\n",
            "\u001b[K     |████████████████████████████████| 972kB 8.4MB/s \n",
            "\u001b[?25hRequirement already satisfied: certifi in /usr/local/lib/python3.6/dist-packages (from httpx==0.13.3->googletrans) (2020.6.20)\n",
            "Collecting rfc3986<2,>=1.3\n",
            "  Downloading https://files.pythonhosted.org/packages/78/be/7b8b99fd74ff5684225f50dd0e865393d2265656ef3b4ba9eaaaffe622b8/rfc3986-1.4.0-py2.py3-none-any.whl\n",
            "Collecting sniffio\n",
            "  Downloading https://files.pythonhosted.org/packages/52/b0/7b2e028b63d092804b6794595871f936aafa5e9322dcaaad50ebf67445b3/sniffio-1.2.0-py3-none-any.whl\n",
            "Requirement already satisfied: idna==2.* in /usr/local/lib/python3.6/dist-packages (from httpx==0.13.3->googletrans) (2.10)\n",
            "Requirement already satisfied: chardet==3.* in /usr/local/lib/python3.6/dist-packages (from httpx==0.13.3->googletrans) (3.0.4)\n",
            "Collecting httpcore==0.9.*\n",
            "\u001b[?25l  Downloading https://files.pythonhosted.org/packages/dd/d5/e4ff9318693ac6101a2095e580908b591838c6f33df8d3ee8dd953ba96a8/httpcore-0.9.1-py3-none-any.whl (42kB)\n",
            "\u001b[K     |████████████████████████████████| 51kB 7.9MB/s \n",
            "\u001b[?25hCollecting contextvars>=2.1; python_version < \"3.7\"\n",
            "  Downloading https://files.pythonhosted.org/packages/83/96/55b82d9f13763be9d672622e1b8106c85acb83edd7cc2fa5bc67cd9877e9/contextvars-2.4.tar.gz\n",
            "Collecting h11<0.10,>=0.8\n",
            "\u001b[?25l  Downloading https://files.pythonhosted.org/packages/5a/fd/3dad730b0f95e78aeeb742f96fa7bbecbdd56a58e405d3da440d5bfb90c6/h11-0.9.0-py2.py3-none-any.whl (53kB)\n",
            "\u001b[K     |████████████████████████████████| 61kB 7.3MB/s \n",
            "\u001b[?25hCollecting h2==3.*\n",
            "\u001b[?25l  Downloading https://files.pythonhosted.org/packages/25/de/da019bcc539eeab02f6d45836f23858ac467f584bfec7a526ef200242afe/h2-3.2.0-py2.py3-none-any.whl (65kB)\n",
            "\u001b[K     |████████████████████████████████| 71kB 8.0MB/s \n",
            "\u001b[?25hCollecting immutables>=0.9\n",
            "\u001b[?25l  Downloading https://files.pythonhosted.org/packages/99/e0/ea6fd4697120327d26773b5a84853f897a68e33d3f9376b00a8ff96e4f63/immutables-0.14-cp36-cp36m-manylinux1_x86_64.whl (98kB)\n",
            "\u001b[K     |████████████████████████████████| 102kB 9.2MB/s \n",
            "\u001b[?25hCollecting hyperframe<6,>=5.2.0\n",
            "  Downloading https://files.pythonhosted.org/packages/19/0c/bf88182bcb5dce3094e2f3e4fe20db28a9928cb7bd5b08024030e4b140db/hyperframe-5.2.0-py2.py3-none-any.whl\n",
            "Collecting hpack<4,>=3.0\n",
            "  Downloading https://files.pythonhosted.org/packages/8a/cc/e53517f4a1e13f74776ca93271caef378dadec14d71c61c949d759d3db69/hpack-3.0.0-py2.py3-none-any.whl\n",
            "Building wheels for collected packages: googletrans, contextvars\n",
            "  Building wheel for googletrans (setup.py) ... \u001b[?25l\u001b[?25hdone\n",
            "  Created wheel for googletrans: filename=googletrans-3.0.0-cp36-none-any.whl size=15736 sha256=fd59ba03df55741c34408286fa8fbc2c9201cc8583714865e6a5504698d10ad4\n",
            "  Stored in directory: /root/.cache/pip/wheels/28/1a/a7/eaf4d7a3417a0c65796c547cff4deb6d79c7d14c2abd29273e\n",
            "  Building wheel for contextvars (setup.py) ... \u001b[?25l\u001b[?25hdone\n",
            "  Created wheel for contextvars: filename=contextvars-2.4-cp36-none-any.whl size=7666 sha256=0003c779fc79bdf445ef6bb475cda94e67f8118507df1284be93d34098439eb7\n",
            "  Stored in directory: /root/.cache/pip/wheels/a5/7d/68/1ebae2668bda2228686e3c1cf16f2c2384cea6e9334ad5f6de\n",
            "Successfully built googletrans contextvars\n",
            "Installing collected packages: hstspreload, rfc3986, immutables, contextvars, sniffio, h11, hyperframe, hpack, h2, httpcore, httpx, googletrans\n",
            "Successfully installed contextvars-2.4 googletrans-3.0.0 h11-0.9.0 h2-3.2.0 hpack-3.0.0 hstspreload-2020.10.6 httpcore-0.9.1 httpx-0.13.3 hyperframe-5.2.0 immutables-0.14 rfc3986-1.4.0 sniffio-1.2.0\n"
          ],
          "name": "stdout"
        }
      ]
    },
    {
      "cell_type": "markdown",
      "metadata": {
        "id": "0OEha2KQ-jWf"
      },
      "source": [
        "### **Import Googletrans library**"
      ]
    },
    {
      "cell_type": "code",
      "metadata": {
        "id": "clkpVCRv9_r5"
      },
      "source": [
        "import googletrans"
      ],
      "execution_count": null,
      "outputs": []
    },
    {
      "cell_type": "markdown",
      "metadata": {
        "id": "YzwBngf8-qvT"
      },
      "source": [
        "### **Supported languages by Googletrans**"
      ]
    },
    {
      "cell_type": "code",
      "metadata": {
        "id": "ypYxZeQA-qRU",
        "colab": {
          "base_uri": "https://localhost:8080/",
          "height": 54
        },
        "outputId": "6727ecef-4fb6-4e4a-9d96-8075347c8881"
      },
      "source": [
        "print(googletrans.LANGUAGES)"
      ],
      "execution_count": null,
      "outputs": [
        {
          "output_type": "stream",
          "text": [
            "{'af': 'afrikaans', 'sq': 'albanian', 'am': 'amharic', 'ar': 'arabic', 'hy': 'armenian', 'az': 'azerbaijani', 'eu': 'basque', 'be': 'belarusian', 'bn': 'bengali', 'bs': 'bosnian', 'bg': 'bulgarian', 'ca': 'catalan', 'ceb': 'cebuano', 'ny': 'chichewa', 'zh-cn': 'chinese (simplified)', 'zh-tw': 'chinese (traditional)', 'co': 'corsican', 'hr': 'croatian', 'cs': 'czech', 'da': 'danish', 'nl': 'dutch', 'en': 'english', 'eo': 'esperanto', 'et': 'estonian', 'tl': 'filipino', 'fi': 'finnish', 'fr': 'french', 'fy': 'frisian', 'gl': 'galician', 'ka': 'georgian', 'de': 'german', 'el': 'greek', 'gu': 'gujarati', 'ht': 'haitian creole', 'ha': 'hausa', 'haw': 'hawaiian', 'iw': 'hebrew', 'he': 'hebrew', 'hi': 'hindi', 'hmn': 'hmong', 'hu': 'hungarian', 'is': 'icelandic', 'ig': 'igbo', 'id': 'indonesian', 'ga': 'irish', 'it': 'italian', 'ja': 'japanese', 'jw': 'javanese', 'kn': 'kannada', 'kk': 'kazakh', 'km': 'khmer', 'ko': 'korean', 'ku': 'kurdish (kurmanji)', 'ky': 'kyrgyz', 'lo': 'lao', 'la': 'latin', 'lv': 'latvian', 'lt': 'lithuanian', 'lb': 'luxembourgish', 'mk': 'macedonian', 'mg': 'malagasy', 'ms': 'malay', 'ml': 'malayalam', 'mt': 'maltese', 'mi': 'maori', 'mr': 'marathi', 'mn': 'mongolian', 'my': 'myanmar (burmese)', 'ne': 'nepali', 'no': 'norwegian', 'or': 'odia', 'ps': 'pashto', 'fa': 'persian', 'pl': 'polish', 'pt': 'portuguese', 'pa': 'punjabi', 'ro': 'romanian', 'ru': 'russian', 'sm': 'samoan', 'gd': 'scots gaelic', 'sr': 'serbian', 'st': 'sesotho', 'sn': 'shona', 'sd': 'sindhi', 'si': 'sinhala', 'sk': 'slovak', 'sl': 'slovenian', 'so': 'somali', 'es': 'spanish', 'su': 'sundanese', 'sw': 'swahili', 'sv': 'swedish', 'tg': 'tajik', 'ta': 'tamil', 'te': 'telugu', 'th': 'thai', 'tr': 'turkish', 'uk': 'ukrainian', 'ur': 'urdu', 'ug': 'uyghur', 'uz': 'uzbek', 'vi': 'vietnamese', 'cy': 'welsh', 'xh': 'xhosa', 'yi': 'yiddish', 'yo': 'yoruba', 'zu': 'zulu'}\n"
          ],
          "name": "stdout"
        }
      ]
    },
    {
      "cell_type": "code",
      "metadata": {
        "id": "_7lIvPF--3MG",
        "colab": {
          "base_uri": "https://localhost:8080/",
          "height": 34
        },
        "outputId": "aa510bbf-fa4c-4593-abc6-09362e719b22"
      },
      "source": [
        "len(googletrans.LANGUAGES)"
      ],
      "execution_count": null,
      "outputs": [
        {
          "output_type": "execute_result",
          "data": {
            "text/plain": [
              "107"
            ]
          },
          "metadata": {
            "tags": []
          },
          "execution_count": 4
        }
      ]
    },
    {
      "cell_type": "markdown",
      "metadata": {
        "id": "w0xxWwZH_U5Z"
      },
      "source": [
        "> Great ! it spports **107** language"
      ]
    },
    {
      "cell_type": "markdown",
      "metadata": {
        "id": "FB3vezn2FmFH"
      },
      "source": [
        "### **Simple Translation Example**"
      ]
    },
    {
      "cell_type": "code",
      "metadata": {
        "id": "6JbEKjkK_Cyo",
        "colab": {
          "base_uri": "https://localhost:8080/",
          "height": 69
        },
        "outputId": "523ee53d-0d2d-4143-ddf3-1e6810580e4f"
      },
      "source": [
        "#import Translator object\n",
        "from googletrans import Translator\n",
        "translator = Translator()\n",
        "\n",
        "#the deafaul language is English\n",
        "print(translator.translate('السلام عليكم').text)\n",
        "#tranlate to chinise\n",
        "print(translator.translate('السلام عليكم',dest='zh-cn').text)\n",
        "#from English to Arabic\n",
        "print(translator.translate(\"I'\\m' a data science student\",dest='ar').text)"
      ],
      "execution_count": null,
      "outputs": [
        {
          "output_type": "stream",
          "text": [
            "peace upon you\n",
            "使您平静\n",
            "أنا طالب علم بيانات\n"
          ],
          "name": "stdout"
        }
      ]
    },
    {
      "cell_type": "markdown",
      "metadata": {
        "id": "P7i0322BCjc7"
      },
      "source": [
        ">As always google go over the real meaning sometimes, but it do great job all the time :)"
      ]
    },
    {
      "cell_type": "markdown",
      "metadata": {
        "id": "_33z4LhtFqwm"
      },
      "source": [
        "### **Sentence Translation Example**"
      ]
    },
    {
      "cell_type": "code",
      "metadata": {
        "id": "FwdjzzRZCbOf",
        "colab": {
          "base_uri": "https://localhost:8080/",
          "height": 34
        },
        "outputId": "fb1f5aca-b58c-4baa-e751-7a7f8dda60d8"
      },
      "source": [
        "print(translator.translate('ابسم الله الرحمان الرحيم').text)"
      ],
      "execution_count": null,
      "outputs": [
        {
          "output_type": "stream",
          "text": [
            "In the name of of Allah the Merciful\n"
          ],
          "name": "stdout"
        }
      ]
    },
    {
      "cell_type": "markdown",
      "metadata": {
        "id": "C2R3kJM3F0ol"
      },
      "source": [
        "### **Translation Object's Details**"
      ]
    },
    {
      "cell_type": "code",
      "metadata": {
        "id": "0ecQd9POD0Rc",
        "colab": {
          "base_uri": "https://localhost:8080/",
          "height": 104
        },
        "outputId": "6b516680-65f3-43e3-d363-664442d1a5fe"
      },
      "source": [
        "#the tranlated object contains all information\n",
        "translated = translator.translate(\"I'm Nour Eddine ZEKAOUI from Morocco\", src='en', dest='ar')\n",
        "print(\" Source Language: \" + translated.src)\n",
        "print (\" Destination Language: \" + translated.dest)\n",
        "print(\" Origin: \", translated.origin)\n",
        "print(\" Translated String: \" + translated.text)\n",
        "print(\" Pronunciation: \", translated.pronunciation)"
      ],
      "execution_count": null,
      "outputs": [
        {
          "output_type": "stream",
          "text": [
            " Source Language: en\n",
            " Destination Language: ar\n",
            " Origin:  I'm Nour Eddine ZEKAOUI from Morocco\n",
            " Translated String: أنا نور الدين زكاوي من المغرب\n",
            " Pronunciation:  'ana nur aldiyn zakawi min almaghrib\n"
          ],
          "name": "stdout"
        }
      ]
    },
    {
      "cell_type": "markdown",
      "metadata": {
        "id": "qxXvHB0NFKDQ"
      },
      "source": [
        "> Spectacular !"
      ]
    },
    {
      "cell_type": "markdown",
      "metadata": {
        "id": "fsYpIqJYF8nP"
      },
      "source": [
        "### **Translation Deatails**"
      ]
    },
    {
      "cell_type": "code",
      "metadata": {
        "id": "UA0w6z91FAdX",
        "colab": {
          "base_uri": "https://localhost:8080/",
          "height": 34
        },
        "outputId": "d59cfc93-59ea-43e5-b9dc-fa09ab1b2792"
      },
      "source": [
        "print(translator.translate('Have a good night'))"
      ],
      "execution_count": null,
      "outputs": [
        {
          "output_type": "stream",
          "text": [
            "Translated(src=en, dest=en, text=Have a good night, pronunciation=Have a good night, extra_data=\"{'translat...\")\n"
          ],
          "name": "stdout"
        }
      ]
    },
    {
      "cell_type": "markdown",
      "metadata": {
        "id": "i49I49E1KpWQ"
      },
      "source": [
        ">As you can see it returned all the detailes ralated to the sentence"
      ]
    },
    {
      "cell_type": "markdown",
      "metadata": {
        "id": "SvYynlNdLIsp"
      },
      "source": [
        "### **Iterate over the translation**"
      ]
    },
    {
      "cell_type": "code",
      "metadata": {
        "id": "Y-vt704tKmFh",
        "colab": {
          "base_uri": "https://localhost:8080/",
          "height": 69
        },
        "outputId": "232ecce7-e1dd-48d0-e487-fdcec009a553"
      },
      "source": [
        "translations = translator.translate(['I want to creat somthing out if the box',\n",
        "                                     'data science world is impressive',\n",
        "                                     'war is far from over !'], dest='ar')\n",
        "\n",
        "for translation in translations:\n",
        "  print(translation.origin,\" => \",translation.text )"
      ],
      "execution_count": null,
      "outputs": [
        {
          "output_type": "stream",
          "text": [
            "I want to creat somthing out if the box  =>  أريد إنشاء شيء خارج الصندوق\n",
            "data science world is impressive  =>  عالم علوم البيانات مثير للإعجاب\n",
            "war is far from over !  =>  الحرب لم تنته بعد!\n"
          ],
          "name": "stdout"
        }
      ]
    },
    {
      "cell_type": "markdown",
      "metadata": {
        "id": "cU8pOnYPMTU8"
      },
      "source": [
        "### **Detect the Language**"
      ]
    },
    {
      "cell_type": "code",
      "metadata": {
        "id": "DFORgo1EMHmN",
        "colab": {
          "base_uri": "https://localhost:8080/",
          "height": 69
        },
        "outputId": "0a2e0c28-f23b-4a68-82eb-5c633a9a8ba8"
      },
      "source": [
        "print(translator.detect(\"بسم الله الرحمان الرحيم\"))\n",
        "print(translator.detect(\"I'm Nour Eddine ZEKAOUI from Morocco\"))\n",
        "print(translator.detect(\"Je suis Nour Eddine ZEKAOUI\"))"
      ],
      "execution_count": null,
      "outputs": [
        {
          "output_type": "stream",
          "text": [
            "Detected(lang=ar, confidence=0.9618549)\n",
            "Detected(lang=en, confidence=0.9494142)\n",
            "Detected(lang=fr, confidence=1.0)\n"
          ],
          "name": "stdout"
        }
      ]
    },
    {
      "cell_type": "markdown",
      "metadata": {
        "id": "vO-42XcdOcYg"
      },
      "source": [
        ">It returns the source of the language and a coefficient shows its confidence "
      ]
    },
    {
      "cell_type": "code",
      "metadata": {
        "id": "a1JiynOkOS4B",
        "colab": {
          "base_uri": "https://localhost:8080/",
          "height": 104
        },
        "outputId": "00ddf73b-a5ad-495f-dbb0-bd8a8ad65940"
      },
      "source": [
        "langs = translator.detect(['Hello',\n",
        "                           'hasta',\n",
        "                           'Bonjour',\n",
        "                           'بسم الله',\n",
        "                           'remontada'])\n",
        "\n",
        "# loops on languages to detect their sources\n",
        "for lang in langs:\n",
        "  print(lang.lang, lang.confidence)"
      ],
      "execution_count": null,
      "outputs": [
        {
          "output_type": "stream",
          "text": [
            "en 1.0\n",
            "es 0.9609375\n",
            "fr 0.96875\n",
            "ar 0.9737106\n",
            "es 0.9609375\n"
          ],
          "name": "stdout"
        }
      ]
    },
    {
      "cell_type": "markdown",
      "metadata": {
        "id": "NhIgFlrkQWsW"
      },
      "source": [
        "**Author : ZEKAOUI Nour Eddine** \n",
        "\n",
        "*   My [LinkedIn](https://www.linkedin.com/in/nour-eddine-zekaoui-ba43b1177/)\n",
        "*   My [GitHub](https://github.com/zekaouinoureddine)\n"
      ]
    },
    {
      "cell_type": "markdown",
      "metadata": {
        "id": "9u4kuYOeSKsk"
      },
      "source": [
        "## **Thank you a lot for your interest** ☻"
      ]
    },
    {
      "cell_type": "code",
      "metadata": {
        "id": "RBv4Cdy3PW7B"
      },
      "source": [
        ""
      ],
      "execution_count": null,
      "outputs": []
    }
  ]
}